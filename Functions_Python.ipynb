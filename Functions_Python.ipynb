{
  "nbformat": 4,
  "nbformat_minor": 0,
  "metadata": {
    "colab": {
      "provenance": [],
      "authorship_tag": "ABX9TyPu/Xv4yJ3wk28vlE4s70FU",
      "include_colab_link": true
    },
    "kernelspec": {
      "name": "python3",
      "display_name": "Python 3"
    },
    "language_info": {
      "name": "python"
    }
  },
  "cells": [
    {
      "cell_type": "markdown",
      "metadata": {
        "id": "view-in-github",
        "colab_type": "text"
      },
      "source": [
        "<a href=\"https://colab.research.google.com/github/marceloribasDev/analysisIMDB/blob/main/Functions_Python.ipynb\" target=\"_parent\"><img src=\"https://colab.research.google.com/assets/colab-badge.svg\" alt=\"Open In Colab\"/></a>"
      ]
    },
    {
      "cell_type": "markdown",
      "source": [
        "# Functions"
      ],
      "metadata": {
        "id": "ZIblnuGyLevW"
      }
    },
    {
      "cell_type": "markdown",
      "source": [
        "# Functions"
      ],
      "metadata": {
        "id": "qw25HLzMY863"
      }
    },
    {
      "cell_type": "code",
      "execution_count": null,
      "metadata": {
        "id": "WCi2SE2syeQb"
      },
      "outputs": [],
      "source": [
        "def func(*args, outro):\n",
        "    print(\"Argumentos sao: \", args)\n",
        "    print(outro)\n",
        "\n",
        "func(1,2,3, outro=\"1\")    "
      ]
    },
    {
      "cell_type": "code",
      "source": [
        "def subtrai(num1,num2):\n",
        "    valor = num1 - num2\n",
        "    return valor\n",
        "\n",
        "subtracao = subtrai(10,3)\n",
        "\n",
        "print(subtracao)"
      ],
      "metadata": {
        "id": "-8wRNxp3fxYX"
      },
      "execution_count": null,
      "outputs": []
    },
    {
      "cell_type": "code",
      "source": [
        "def len_int(num):\n",
        "    numero_em_texto = str(num)\n",
        "    return len(numero_em_texto)\n",
        "\n",
        "num1 = 10\n",
        "num2 = 1230\n",
        "\n",
        "tamanho1 = len_int(num1)\n",
        "tamanho2 = len_int(num2)\n",
        "\n",
        "print(\"O numero %d tem %d digitos\" % (num1, tamanho1))\n",
        "print(\"O numero %d tem %d digitos\" % (num2, tamanho2))\n",
        "    "
      ],
      "metadata": {
        "id": "07R88aycjqhm"
      },
      "execution_count": null,
      "outputs": []
    },
    {
      "cell_type": "code",
      "source": [
        "def retorna_multiplo(a,b,c):\n",
        "    a += a\n",
        "    b += b\n",
        "    c += c\n",
        "    return a,b,c\n",
        "\n",
        "x,y,z = retorna_multiplo(1,2,3)\n",
        "print(x,y,z)"
      ],
      "metadata": {
        "id": "QNxDKy2k0jYK"
      },
      "execution_count": null,
      "outputs": []
    },
    {
      "cell_type": "markdown",
      "source": [
        "\n",
        "\n",
        "---\n",
        "\n"
      ],
      "metadata": {
        "id": "BhM74MoI1mCn"
      }
    },
    {
      "cell_type": "markdown",
      "source": [
        "# Funcao Lambda"
      ],
      "metadata": {
        "id": "hhVMBlYT1etE"
      }
    },
    {
      "cell_type": "code",
      "source": [
        "faz_soma = lambda x : x + 10\n",
        "\n",
        "valor = faz_soma(2)\n",
        "\n",
        "print(valor)"
      ],
      "metadata": {
        "id": "qhU5_q0z1n-n"
      },
      "execution_count": null,
      "outputs": []
    },
    {
      "cell_type": "code",
      "source": [
        "multiplica = lambda x,y : x * y\n",
        "valor = multiplica(2,10)\n",
        "print(valor)"
      ],
      "metadata": {
        "id": "NrR6OB6Y65nT"
      },
      "execution_count": null,
      "outputs": []
    },
    {
      "cell_type": "code",
      "source": [
        "def multiplica(y):\n",
        "    return lambda x : x * y \n",
        "\n",
        "valor = multiplica(2)\n",
        "\n",
        "resultado = valor(10)\n",
        "\n",
        "print(resultado)"
      ],
      "metadata": {
        "id": "S7uDU6TN7prp"
      },
      "execution_count": null,
      "outputs": []
    },
    {
      "cell_type": "markdown",
      "source": [
        "# Funcao Recursivas"
      ],
      "metadata": {
        "id": "iyMWolJz_GM7"
      }
    },
    {
      "cell_type": "code",
      "source": [
        "def print_num(num):\n",
        "    print(num)\n",
        "    if num >= 10:\n",
        "        return\n",
        "    print_num(num +1)\n",
        "\n",
        "print_num(0)"
      ],
      "metadata": {
        "id": "asugaRtX_JSr"
      },
      "execution_count": null,
      "outputs": []
    },
    {
      "cell_type": "code",
      "source": [
        "def print_str(texto, indice):\n",
        "    if indice == len(texto):\n",
        "        return\n",
        "    print(texto[indice])\n",
        "    print_str(texto, indice + 1)\n",
        "\n",
        "print_str(\"Python\", 0)"
      ],
      "metadata": {
        "id": "g1p4e_kN_jFv"
      },
      "execution_count": null,
      "outputs": []
    },
    {
      "cell_type": "code",
      "source": [
        "def fatorial(num):\n",
        "    if(num==1):\n",
        "        return 1\n",
        "    \n",
        "    return num * fatorial(num-1)\n",
        "\n",
        "print(fatorial(10))"
      ],
      "metadata": {
        "id": "r99PIquV_75_"
      },
      "execution_count": null,
      "outputs": []
    },
    {
      "cell_type": "markdown",
      "source": [
        "# Funcao Aninhadas"
      ],
      "metadata": {
        "id": "W8uZnhQqCE6o"
      }
    },
    {
      "cell_type": "code",
      "source": [
        "def calculadora(num1,num2,op):\n",
        "    def soma(a,b):\n",
        "        return a + b\n",
        "    def subtracao(a,b):\n",
        "        return a - b\n",
        "    def multiplicacao(a,b):\n",
        "        return a * b\n",
        "    def divisao(a,b):\n",
        "        return a / b\n",
        "    \n",
        "    if (op == '+'):\n",
        "        return soma(num1, num2)\n",
        "    elif (op == '-'):\n",
        "        return subtracao(num1, num2)\n",
        "    elif (op == '*'):\n",
        "        return multiplicacao(num1, num2)\n",
        "    elif (op == '/'):\n",
        "        return divisao(num1, num2)\n",
        "    else:\n",
        "        print(\"Operacao invalida\")\n",
        "\n",
        "mais = calculadora(10,5,'+')\n",
        "menos = calculadora(10,5,'-')        \n",
        "vezes = calculadora(10,5,'*')        \n",
        "dividi = calculadora(10,5,'/')        \n",
        "\n",
        "print(mais)\n",
        "print(menos)\n",
        "print(vezes)\n",
        "print(dividi)"
      ],
      "metadata": {
        "id": "49tvWUq6CHLH"
      },
      "execution_count": null,
      "outputs": []
    },
    {
      "cell_type": "code",
      "source": [
        "def pega_func_print():\n",
        "    def print_var(var):\n",
        "        print(var)\n",
        "    return print_var\n",
        "\n",
        "print_me = pega_func_print()\n",
        "\n",
        "print_me(10)"
      ],
      "metadata": {
        "id": "k09jzPcCJAZw"
      },
      "execution_count": null,
      "outputs": []
    }
  ]
}